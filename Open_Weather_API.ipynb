{
 "cells": [
  {
   "attachments": {},
   "cell_type": "markdown",
   "metadata": {},
   "source": [
    "## Target: Get weather data from chosen cities around the world "
   ]
  },
  {
   "cell_type": "code",
   "execution_count": 2,
   "metadata": {},
   "outputs": [],
   "source": [
    "import requests as rq\n",
    "import pandas as pd\n",
    "from secrets import *"
   ]
  },
  {
   "cell_type": "code",
   "execution_count": 7,
   "metadata": {},
   "outputs": [],
   "source": [
    "# input\n",
    "city = ['Lisboa', 'Tulum', 'Reykjavik', 'Tromso', 'Barcelona']"
   ]
  },
  {
   "cell_type": "code",
   "execution_count": 5,
   "metadata": {},
   "outputs": [
    {
     "name": "stdout",
     "output_type": "stream",
     "text": [
      "<class 'pandas.core.frame.DataFrame'>\n",
      "Index: 0 entries\n",
      "Data columns (total 3 columns):\n",
      " #   Column    Non-Null Count  Dtype  \n",
      "---  ------    --------------  -----  \n",
      " 0   City      0 non-null      object \n",
      " 1   Temp_Min  0 non-null      float64\n",
      " 2   Temp_Max  0 non-null      float64\n",
      "dtypes: float64(2), object(1)\n",
      "memory usage: 0.0+ bytes\n"
     ]
    }
   ],
   "source": [
    "# create dataframe\n",
    "df = pd.DataFrame({\n",
    "                'City': pd.Series(dtype='str'), \n",
    "                'Temp_Min': pd.Series(dtype='float'), \n",
    "                'Temp_Max': pd.Series(dtype='float')\n",
    "                })\n",
    "df.info()"
   ]
  },
  {
   "cell_type": "code",
   "execution_count": 6,
   "metadata": {},
   "outputs": [
    {
     "name": "stdout",
     "output_type": "stream",
     "text": [
      "        City  Temp_Min  Temp_Max\n",
      "1      Tulum     24.69     24.69\n",
      "0     Lisboa      8.12     10.52\n",
      "4  Barcelona      2.80      8.75\n",
      "2  Reykjavik      2.23      4.21\n",
      "3     Tromso     -7.62     -7.05\n"
     ]
    }
   ],
   "source": [
    "## loop over all cities in dataframe to access min and max temperature from json file and save it as new row in dataframe.\n",
    "for c in city:\n",
    "    response = rq.get(f\"http://api.openweathermap.org/geo/1.0/direct?q={c}&appid={api_key}\")\n",
    "    lat = response.json()[0]['lat']\n",
    "    lon = response.json()[0]['lon']\n",
    "    temp_min = rq.get(f\"https://api.openweathermap.org/data/2.5/weather?lat={lat}&lon={lon}&appid={api_key}\").json()['main']['temp_min']-273.15\n",
    "    temp_max = rq.get(f\"https://api.openweathermap.org/data/2.5/weather?lat={lat}&lon={lon}&appid={api_key}\").json()['main']['temp_max']-273.15\n",
    "    \n",
    "    df.loc[len(df)] = [c,temp_min,temp_max]\n",
    "               \n",
    "print(df.sort_values('Temp_Max', ascending = False))"
   ]
  },
  {
   "cell_type": "code",
   "execution_count": 43,
   "metadata": {},
   "outputs": [
    {
     "data": {
      "text/plain": [
       "0       Lisboa\n",
       "1        Tulum\n",
       "2    Reykjavik\n",
       "3       Tromso\n",
       "4    Barcelona\n",
       "Name: City, dtype: object"
      ]
     },
     "execution_count": 43,
     "metadata": {},
     "output_type": "execute_result"
    }
   ],
   "source": [
    "df_max = df.query('Temp_Max==Temp_Max.max()')\n",
    "df[\"City\"]"
   ]
  },
  {
   "cell_type": "code",
   "execution_count": 47,
   "metadata": {},
   "outputs": [
    {
     "name": "stdout",
     "output_type": "stream",
     "text": [
      "Why don't you travel to Tulum? The temperature there is between 22.3 and 22.3 degrees.\n"
     ]
    }
   ],
   "source": [
    "print(f'Why don\\'t you travel to {df_max[\"City\"][1]}? The temperature there is between {round(df_max[\"Temp_Min\"][1],1)} and {round(df_max[\"Temp_Max\"][1],1)} degrees.')"
   ]
  }
 ],
 "metadata": {
  "kernelspec": {
   "display_name": "Python 3.9.13 ('base')",
   "language": "python",
   "name": "python3"
  },
  "language_info": {
   "codemirror_mode": {
    "name": "ipython",
    "version": 3
   },
   "file_extension": ".py",
   "mimetype": "text/x-python",
   "name": "python",
   "nbconvert_exporter": "python",
   "pygments_lexer": "ipython3",
   "version": "3.9.13"
  },
  "orig_nbformat": 4,
  "vscode": {
   "interpreter": {
    "hash": "18cda033bd4d6b0d2dee7667e4e6afc05b741eff93f9364fdbb12c06dc7da402"
   }
  }
 },
 "nbformat": 4,
 "nbformat_minor": 2
}
