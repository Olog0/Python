{
 "cells": [
  {
   "cell_type": "markdown",
   "metadata": {},
   "source": [
    "### Target: Get weather data from all countries around the world "
   ]
  },
  {
   "cell_type": "code",
   "execution_count": 1,
   "metadata": {},
   "outputs": [],
   "source": [
    "import requests as rq\n",
    "import pandas as pd\n"
   ]
  },
  {
   "cell_type": "code",
   "execution_count": 7,
   "metadata": {},
   "outputs": [],
   "source": [
    "# input\n",
    "city = ['Lisboa', 'Tulum', 'Reykjavik', 'Tromso', 'Barcelona']\n",
    "\n",
    "api_key = 'xxx'"
   ]
  },
  {
   "cell_type": "code",
   "execution_count": 10,
   "metadata": {},
   "outputs": [
    {
     "name": "stdout",
     "output_type": "stream",
     "text": [
      "<class 'pandas.core.frame.DataFrame'>\n",
      "Index: 0 entries\n",
      "Data columns (total 3 columns):\n",
      " #   Column    Non-Null Count  Dtype  \n",
      "---  ------    --------------  -----  \n",
      " 0   City      0 non-null      object \n",
      " 1   Temp_Min  0 non-null      float64\n",
      " 2   Temp_Max  0 non-null      float64\n",
      "dtypes: float64(2), object(1)\n",
      "memory usage: 0.0+ bytes\n"
     ]
    }
   ],
   "source": [
    "# create dataframe\n",
    "df = pd.DataFrame({\n",
    "                'City': pd.Series(dtype='str'), \n",
    "                'Temp_Min': pd.Series(dtype='float'), \n",
    "                'Temp_Max': pd.Series(dtype='float')\n",
    "                })\n",
    "df.info()"
   ]
  },
  {
   "cell_type": "code",
   "execution_count": 11,
   "metadata": {},
   "outputs": [
    {
     "name": "stdout",
     "output_type": "stream",
     "text": [
      "        City  Temp_Min  Temp_Max\n",
      "1      Tulum     22.33     22.33\n",
      "4  Barcelona      6.84     14.64\n",
      "0     Lisboa     10.90     14.47\n",
      "2  Reykjavik      1.12      2.21\n",
      "3     Tromso     -3.05     -1.51\n"
     ]
    }
   ],
   "source": [
    "## loop over all cities in dataframe to access min and max temperature from json file and save it as new row in dataframe.\n",
    "for c in city:\n",
    "    response = rq.get(f\"http://api.openweathermap.org/geo/1.0/direct?q={c}&appid={api_key}\")\n",
    "    lat = response.json()[0]['lat']\n",
    "    lon = response.json()[0]['lon']\n",
    "    temp_min = rq.get(f\"https://api.openweathermap.org/data/2.5/weather?lat={lat}&lon={lon}&appid={api_key}\").json()['main']['temp_min']-273.15\n",
    "    temp_max = rq.get(f\"https://api.openweathermap.org/data/2.5/weather?lat={lat}&lon={lon}&appid={api_key}\").json()['main']['temp_max']-273.15\n",
    "    \n",
    "    df.loc[len(df)] = [c,temp_min,temp_max]\n",
    "               \n",
    "print(df.sort_values('Temp_Max', ascending = False))"
   ]
  },
  {
   "cell_type": "code",
   "execution_count": 14,
   "metadata": {},
   "outputs": [
    {
     "data": {
      "text/html": [
       "<div>\n",
       "<style scoped>\n",
       "    .dataframe tbody tr th:only-of-type {\n",
       "        vertical-align: middle;\n",
       "    }\n",
       "\n",
       "    .dataframe tbody tr th {\n",
       "        vertical-align: top;\n",
       "    }\n",
       "\n",
       "    .dataframe thead th {\n",
       "        text-align: right;\n",
       "    }\n",
       "</style>\n",
       "<table border=\"1\" class=\"dataframe\">\n",
       "  <thead>\n",
       "    <tr style=\"text-align: right;\">\n",
       "      <th></th>\n",
       "      <th>City</th>\n",
       "      <th>Temp_Min</th>\n",
       "      <th>Temp_Max</th>\n",
       "    </tr>\n",
       "  </thead>\n",
       "  <tbody>\n",
       "    <tr>\n",
       "      <th>1</th>\n",
       "      <td>Tulum</td>\n",
       "      <td>22.33</td>\n",
       "      <td>22.33</td>\n",
       "    </tr>\n",
       "  </tbody>\n",
       "</table>\n",
       "</div>"
      ],
      "text/plain": [
       "    City  Temp_Min  Temp_Max\n",
       "1  Tulum     22.33     22.33"
      ]
     },
     "execution_count": 14,
     "metadata": {},
     "output_type": "execute_result"
    }
   ],
   "source": [
    "df_max = df.query('Temp_Max==Temp_Max.max()')\n",
    "df_max"
   ]
  },
  {
   "cell_type": "code",
   "execution_count": 18,
   "metadata": {},
   "outputs": [
    {
     "name": "stdout",
     "output_type": "stream",
     "text": [
      "Why don't you travel to Tulum?\n",
      "The temperature there is between 22.3 and 22.3 degrees.\n"
     ]
    }
   ],
   "source": [
    "print(f'Why don\\'t you travel to {df_max[\"City\"][1]}?\\nThe temperature there is between {round(df_max[\"Temp_Min\"][1],1)} and {round(df_max[\"Temp_Max\"][1],1)} degrees.')"
   ]
  }
 ],
 "metadata": {
  "kernelspec": {
   "display_name": "Python 3.9.13 ('base')",
   "language": "python",
   "name": "python3"
  },
  "language_info": {
   "codemirror_mode": {
    "name": "ipython",
    "version": 3
   },
   "file_extension": ".py",
   "mimetype": "text/x-python",
   "name": "python",
   "nbconvert_exporter": "python",
   "pygments_lexer": "ipython3",
   "version": "3.9.13"
  },
  "orig_nbformat": 4,
  "vscode": {
   "interpreter": {
    "hash": "18cda033bd4d6b0d2dee7667e4e6afc05b741eff93f9364fdbb12c06dc7da402"
   }
  }
 },
 "nbformat": 4,
 "nbformat_minor": 2
}
